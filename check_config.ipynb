{
 "cells": [
  {
   "cell_type": "code",
   "execution_count": 1,
   "id": "f2b79528-8182-47a8-96c2-fe677a9dc0c0",
   "metadata": {},
   "outputs": [],
   "source": [
    "!git config --global user.name\"ElakkiyaPalanisamy\"\n",
    "!git config --global user.email\"palanisamyelakkya3@gmail.com\""
   ]
  },
  {
   "cell_type": "code",
   "execution_count": 2,
   "id": "04777410-ea8f-451f-9c18-d8dde0a5ca14",
   "metadata": {},
   "outputs": [
    {
     "name": "stdout",
     "output_type": "stream",
     "text": [
      "user.name=ElakkiyaPalanisamy\n",
      "user.email=palanisamyelakkiya3@gmail.com\n",
      "core.repositoryformatversion=0\n",
      "core.filemode=true\n",
      "core.bare=false\n",
      "core.logallrefupdates=true\n",
      "remote.origin.url=https://github.com/ElakkiyaPalanisamy/deeplearning.git\n",
      "remote.origin.fetch=+refs/heads/*:refs/remotes/origin/*\n",
      "branch.main.remote=origin\n",
      "branch.main.merge=refs/heads/main\n"
     ]
    }
   ],
   "source": [
    "!git config --list"
   ]
  },
  {
   "cell_type": "code",
   "execution_count": null,
   "id": "aaf6c35f-1c85-458f-b3d3-08ddba5dc1d7",
   "metadata": {},
   "outputs": [],
   "source": []
  }
 ],
 "metadata": {
  "kernelspec": {
   "display_name": "Python 3 (ipykernel)",
   "language": "python",
   "name": "python3"
  },
  "language_info": {
   "codemirror_mode": {
    "name": "ipython",
    "version": 3
   },
   "file_extension": ".py",
   "mimetype": "text/x-python",
   "name": "python",
   "nbconvert_exporter": "python",
   "pygments_lexer": "ipython3",
   "version": "3.12.3"
  }
 },
 "nbformat": 4,
 "nbformat_minor": 5
}
